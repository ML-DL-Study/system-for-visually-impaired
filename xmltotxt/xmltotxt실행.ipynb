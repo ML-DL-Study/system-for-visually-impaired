{
 "cells": [
  {
   "cell_type": "code",
   "execution_count": 3,
   "metadata": {},
   "outputs": [
    {
     "name": "stdout",
     "output_type": "stream",
     "text": [
      "Defaulting to user installation because normal site-packages is not writeable\n",
      "Collecting declxml\n",
      "  Downloading declxml-1.1.3.tar.gz (12 kB)\n",
      "Collecting typing\n",
      "  Downloading typing-3.7.4.3.tar.gz (78 kB)\n",
      "\u001b[K     |████████████████████████████████| 78 kB 1.4 MB/s eta 0:00:011\n",
      "\u001b[?25hBuilding wheels for collected packages: declxml, typing\n",
      "  Building wheel for declxml (setup.py) ... \u001b[?25ldone\n",
      "\u001b[?25h  Created wheel for declxml: filename=declxml-1.1.3-py3-none-any.whl size=14815 sha256=55cff3643b6dd8ffdca2b7b36fcf5e1836e5f56132c12211372e9da9f517d64e\n",
      "  Stored in directory: /home/minji/.cache/pip/wheels/2d/be/ba/5ee1a6359947743064d540bc212ddde73b68e85e8ab3d8dabd\n",
      "  Building wheel for typing (setup.py) ... \u001b[?25ldone\n",
      "\u001b[?25h  Created wheel for typing: filename=typing-3.7.4.3-py3-none-any.whl size=28017 sha256=100886821bd1b95fd3d6f1dd3f00b457a651f5e7625c0aaf7556d6556067bce4\n",
      "  Stored in directory: /home/minji/.cache/pip/wheels/5f/63/c2/b85489bbea28cb5d36cfe197244f898428004fa3caa7a23116\n",
      "Successfully built declxml typing\n",
      "Installing collected packages: typing, declxml\n",
      "Successfully installed declxml-1.1.3 typing-3.7.4.3\n"
     ]
    }
   ],
   "source": [
    "!pip3 install declxml"
   ]
  },
  {
   "cell_type": "code",
   "execution_count": 1,
   "metadata": {},
   "outputs": [],
   "source": [
    "!python3 xmltotxt.py "
   ]
  },
  {
   "cell_type": "code",
   "execution_count": null,
   "metadata": {},
   "outputs": [],
   "source": []
  }
 ],
 "metadata": {
  "kernelspec": {
   "display_name": "Python 3",
   "language": "python",
   "name": "python3"
  },
  "language_info": {
   "codemirror_mode": {
    "name": "ipython",
    "version": 3
   },
   "file_extension": ".py",
   "mimetype": "text/x-python",
   "name": "python",
   "nbconvert_exporter": "python",
   "pygments_lexer": "ipython3",
   "version": "3.6.9"
  }
 },
 "nbformat": 4,
 "nbformat_minor": 2
}
